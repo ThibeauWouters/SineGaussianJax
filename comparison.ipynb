{
 "cells": [
  {
   "cell_type": "markdown",
   "metadata": {},
   "source": [
    "# Comparison torch and jax implementation of Sine Gaussian"
   ]
  },
  {
   "cell_type": "markdown",
   "metadata": {},
   "source": [
    "## Preamble"
   ]
  },
  {
   "cell_type": "code",
   "execution_count": 3,
   "metadata": {},
   "outputs": [],
   "source": [
    "from ml4gw.waveforms.sine_gaussian import SineGaussian\n",
    "import torch \n",
    "import numpy as np\n",
    "import matplotlib.pyplot as plt"
   ]
  },
  {
   "cell_type": "code",
   "execution_count": 4,
   "metadata": {},
   "outputs": [],
   "source": [
    "# Frequency grid\n",
    "T = 128\n",
    "f_l = 20.0\n",
    "f_sampling = 2 * 2048\n",
    "f_u = f_sampling // 2\n",
    "f_ref = f_l\n",
    "\n",
    "delta_t = 1 / f_sampling\n",
    "tlen = int(round(T / delta_t))\n",
    "freqs = np.fft.rfftfreq(tlen, delta_t)\n",
    "df = freqs[1] - freqs[0]\n",
    "fs = freqs[(freqs > f_l) & (freqs < f_u)]\n",
    "\n",
    "frequencies = fs"
   ]
  },
  {
   "cell_type": "markdown",
   "metadata": {},
   "source": [
    "## torch implementation\n"
   ]
  },
  {
   "cell_type": "code",
   "execution_count": 6,
   "metadata": {},
   "outputs": [],
   "source": [
    "sine_gaussian = SineGaussian(4096, 128)\n",
    "\n",
    "eccentricity = torch.tensor(0.0)\n",
    "fs = torch.tensor(20.0)\n",
    "Q = torch.tensor(1.0)\n",
    "hrss = torch.tensor(1.0)\n",
    "phase = torch.tensor(0.0)\n",
    "\n",
    "cross, plus = sine_gaussian(Q, fs, hrss, phase, eccentricity)"
   ]
  },
  {
   "cell_type": "code",
   "execution_count": 8,
   "metadata": {},
   "outputs": [
    {
     "data": {
      "text/plain": [
       "tensor([[0., 0., 0.,  ..., 0., 0., 0.]], dtype=torch.float64)"
      ]
     },
     "execution_count": 8,
     "metadata": {},
     "output_type": "execute_result"
    }
   ],
   "source": [
    "plus"
   ]
  },
  {
   "cell_type": "code",
   "execution_count": null,
   "metadata": {},
   "outputs": [],
   "source": []
  }
 ],
 "metadata": {
  "kernelspec": {
   "display_name": "sine-gaussian",
   "language": "python",
   "name": "python3"
  },
  "language_info": {
   "codemirror_mode": {
    "name": "ipython",
    "version": 3
   },
   "file_extension": ".py",
   "mimetype": "text/x-python",
   "name": "python",
   "nbconvert_exporter": "python",
   "pygments_lexer": "ipython3",
   "version": "3.10.13"
  },
  "orig_nbformat": 4
 },
 "nbformat": 4,
 "nbformat_minor": 2
}
